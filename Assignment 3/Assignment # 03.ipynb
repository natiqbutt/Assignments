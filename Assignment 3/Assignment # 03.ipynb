{
 "cells": [
  {
   "cell_type": "code",
   "execution_count": 2,
   "id": "3e8a16a8",
   "metadata": {},
   "outputs": [
    {
     "name": "stdout",
     "output_type": "stream",
     "text": [
      "Twinkle, twinkle, little star,\n",
      "\tHow I wonder what you are!\n",
      "\t\tUp above the world so high,\n",
      "\t\tLike a diamond in the sky\n",
      "Twinkle, twinkle, little star,\n",
      "\tHow I wonder what you are\n"
     ]
    }
   ],
   "source": [
    "\"\"\"Write a Python program to print the following string in a specific format (see the\n",
    "output).\n",
    "Twinkle, twinkle, little star,\n",
    "        How I wonder what you are!\n",
    "            Up above the world so high, \n",
    "            Like a diamond in the sky.\n",
    "Twinkle, twinkle, little star,\n",
    "        How I wonder what you are\n",
    "\"\"\"\n",
    "print(\"Twinkle, twinkle, little star,\");\n",
    "print(\"\\tHow I wonder what you are!\");\n",
    "print(\"\\t\\tUp above the world so high,\");\n",
    "print(\"\\t\\tLike a diamond in the sky\");\n",
    "print(\"Twinkle, twinkle, little star,\");\n",
    "print(\"\\tHow I wonder what you are\");"
   ]
  },
  {
   "cell_type": "code",
   "execution_count": 3,
   "id": "cdc83f93",
   "metadata": {},
   "outputs": [
    {
     "name": "stdout",
     "output_type": "stream",
     "text": [
      "Python 3.8.8\n"
     ]
    }
   ],
   "source": [
    "# Write a Python program to get the Python version you are using\n",
    "\n",
    "!python -V"
   ]
  },
  {
   "cell_type": "code",
   "execution_count": 1,
   "id": "27543b65",
   "metadata": {},
   "outputs": [
    {
     "name": "stdout",
     "output_type": "stream",
     "text": [
      "23-10-21 20:48\n"
     ]
    }
   ],
   "source": [
    "# Write a Python program to display the current date and time.\n",
    "\n",
    "from datetime import datetime;\n",
    "now = datetime. now();\n",
    "print (now. strftime(\"%d-%m-%y %H:%M\"));"
   ]
  },
  {
   "cell_type": "code",
   "execution_count": 2,
   "id": "e2af96c6",
   "metadata": {},
   "outputs": [
    {
     "name": "stdout",
     "output_type": "stream",
     "text": [
      "Enter the radius= 5\n",
      "Area of circle= 157.0\n"
     ]
    }
   ],
   "source": [
    "# Write a Python program which accepts the radius of a circle from the user and compute the area.\n",
    "\n",
    "r=int(input(\"Enter the radius= \"));\n",
    "pi=3.14;\n",
    "area= 2*pi*r**2;\n",
    "print(\"Area of circle=\",area);"
   ]
  },
  {
   "cell_type": "code",
   "execution_count": 3,
   "id": "b3314959",
   "metadata": {},
   "outputs": [
    {
     "name": "stdout",
     "output_type": "stream",
     "text": [
      "Enter First Name: Natiq\n",
      "Enter last Name: Butt\n",
      "Butt Natiq\n"
     ]
    }
   ],
   "source": [
    "\"\"\"Write a Python program which accepts the user's first and last name and print them in reverse order\n",
    "with a space between them.\"\"\"\n",
    "\n",
    "firstName=input(\"Enter First Name: \");\n",
    "lastName=input(\"Enter last Name: \");\n",
    "reverse= lastName+ \" \" +firstName;\n",
    "print(reverse);"
   ]
  },
  {
   "cell_type": "code",
   "execution_count": 1,
   "id": "71f93a9b",
   "metadata": {},
   "outputs": [
    {
     "name": "stdout",
     "output_type": "stream",
     "text": [
      "Enter First Number= 20\n",
      "Enter Second Number= 25\n",
      "45\n"
     ]
    }
   ],
   "source": [
    "#Write a python program which takes two inputs from user and print them addition\n",
    "\n",
    "firstNumber=int(input(\"Enter First Number= \"));\n",
    "secondNumber=int(input(\"Enter Second Number= \"));\n",
    "total= firstNumber + secondNumber;\n",
    "print(total);"
   ]
  },
  {
   "cell_type": "code",
   "execution_count": 1,
   "id": "c1af852e",
   "metadata": {},
   "outputs": [
    {
     "name": "stdout",
     "output_type": "stream",
     "text": [
      "Enter Mark of Urdu=65\n",
      "Enter Mark of English=75\n",
      "Enter Mark of Mathematics=99\n",
      "Enter Mark of Computer=95\n",
      "Enter Mark of islamiyat=88\n",
      "Student Marks = 422\n",
      "Student Percentage = 84.39999999999999\n",
      "Student Grade A+\n"
     ]
    }
   ],
   "source": [
    "\"\"\"Write a program which takes 5 inputs from user for different subject’s marks,\n",
    "total it and generate mark sheet using grades?\"\"\"\n",
    "\n",
    "urdu=int(input(\"Enter Mark of Urdu=\"));\n",
    "eng=int(input(\"Enter Mark of English=\"));\n",
    "maths=int(input(\"Enter Mark of Mathematics=\"));\n",
    "comp=int(input(\"Enter Mark of Computer=\"));\n",
    "isl=int(input(\"Enter Mark of islamiyat=\"));\n",
    "obtain_marks = urdu+eng+maths+comp+isl;\n",
    "total_marks = 500;\n",
    "percentage = (obtain_marks/total_marks)*100;\n",
    "print(\"Student Marks =\",obtain_marks);\n",
    "print(\"Student Percentage =\",percentage);\n",
    "\n",
    "if percentage <= 100 and percentage >= 80:\n",
    "    print(\"Student Grade A+\");\n",
    "elif percentage < 80 and percentage >= 70:\n",
    "    print(\"Student Grade A\");\n",
    "elif percentage < 70 and percentage >= 60:\n",
    "    print(\"Student Grade B\");\n",
    "elif percentage < 60 and percentage >= 50:\n",
    "    print(\"Student Grade C\");\n",
    "elif percentage < 50 and percentage >= 40:\n",
    "    print(\"Student Grade D\");\n",
    "elif percentage < 40 and percentage >= 33:\n",
    "    print(\"Student Grade E\");\n",
    "elif percentage < 33 and percentage >= 0:\n",
    "    print(\"Student Grade F\");\n",
    "else: \n",
    "    print(\"Your Marks Percentage are invaild!!\");"
   ]
  },
  {
   "cell_type": "code",
   "execution_count": 2,
   "id": "7b43c0aa",
   "metadata": {},
   "outputs": [
    {
     "name": "stdout",
     "output_type": "stream",
     "text": [
      "Enter Number= 66\n",
      "You Entered even number.\n"
     ]
    }
   ],
   "source": [
    "# Write a program which take input from user and identify that the given number is even or odd?\n",
    "\n",
    "num=int(input(\"Enter Number= \"));\n",
    "if(num%2)==0:\n",
    "    print(\"You Entered even number.\");\n",
    "else:\n",
    "    print(\"you Entered odd number.\");"
   ]
  },
  {
   "cell_type": "code",
   "execution_count": 4,
   "id": "9498fbcf",
   "metadata": {},
   "outputs": [
    {
     "name": "stdout",
     "output_type": "stream",
     "text": [
      "Total number of list:  13\n"
     ]
    }
   ],
   "source": [
    "# Write a program which print the length of the list?\n",
    "\n",
    "arr=[10,True,8,6,\"Natiq\",1,15,30,\"Naeem\",34,48,\"Mannan\",False];\n",
    "print(\"Total number of list: \",len(arr));"
   ]
  },
  {
   "cell_type": "code",
   "execution_count": 5,
   "id": "c7ad60b2",
   "metadata": {},
   "outputs": [
    {
     "name": "stdout",
     "output_type": "stream",
     "text": [
      "230\n"
     ]
    }
   ],
   "source": [
    "# Write a Python program to sum all the numeric items in a list?\n",
    "\n",
    "arr=[10,6,8,6,43,1,15,30,29,34,48];\n",
    "sumList=sum(arr);\n",
    "print(sumList);"
   ]
  },
  {
   "cell_type": "code",
   "execution_count": 6,
   "id": "73fa52dc",
   "metadata": {},
   "outputs": [
    {
     "name": "stdout",
     "output_type": "stream",
     "text": [
      "480\n"
     ]
    }
   ],
   "source": [
    "# Write a Python program to get the largest number from a numeric list.\n",
    "\n",
    "arr=[100,96,66,333,43,130,209,304,480];\n",
    "sumList=max(arr);\n",
    "print(sumList);"
   ]
  },
  {
   "cell_type": "code",
   "execution_count": 7,
   "id": "3e9a8809",
   "metadata": {},
   "outputs": [
    {
     "name": "stdout",
     "output_type": "stream",
     "text": [
      "1\n",
      "1\n",
      "2\n",
      "3\n"
     ]
    }
   ],
   "source": [
    "\"\"\"Take a list, say for example this one:\n",
    "a = [1, 1, 2, 3, 5, 8, 13, 21, 34, 55, 89]\n",
    "Write a program that prints out all the elements of the list that are less than 5.\"\"\"\n",
    "\n",
    "a = [1, 1, 2, 3, 5, 8, 13, 21, 34, 55, 89]\n",
    "for less in a:\n",
    "    if less < 5:\n",
    "        print(less);"
   ]
  },
  {
   "cell_type": "code",
   "execution_count": null,
   "id": "dee35159",
   "metadata": {},
   "outputs": [],
   "source": []
  }
 ],
 "metadata": {
  "kernelspec": {
   "display_name": "Python 3",
   "language": "python",
   "name": "python3"
  },
  "language_info": {
   "codemirror_mode": {
    "name": "ipython",
    "version": 3
   },
   "file_extension": ".py",
   "mimetype": "text/x-python",
   "name": "python",
   "nbconvert_exporter": "python",
   "pygments_lexer": "ipython3",
   "version": "3.8.8"
  }
 },
 "nbformat": 4,
 "nbformat_minor": 5
}
