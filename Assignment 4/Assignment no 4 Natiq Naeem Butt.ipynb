{
 "cells": [
  {
   "cell_type": "markdown",
   "id": "9bc8b16c",
   "metadata": {},
   "source": [
    "# 1. Make a calculator using Python with addition, subtraction, multiplication, division and power."
   ]
  },
  {
   "cell_type": "code",
   "execution_count": 1,
   "id": "e92721cc",
   "metadata": {},
   "outputs": [
    {
     "name": "stdout",
     "output_type": "stream",
     "text": [
      "\n",
      "Please type in the math operation you would like to complete:\n",
      "+ for addition\n",
      "- for subtraction\n",
      "* for multiplication\n",
      "/ for division\n",
      "** for Power\n",
      "+\n",
      "Please Enter the First Number:10\n",
      "Please Enter the Second Number or Power:10\n",
      "10 + 10 = 20\n",
      "\n",
      "Do you want to calculate again? Please type Y for YES or N for NO.y\n",
      "\n",
      "Please type in the math operation you would like to complete:\n",
      "+ for addition\n",
      "- for subtraction\n",
      "* for multiplication\n",
      "/ for division\n",
      "** for Power\n",
      "*\n",
      "Please Enter the First Number:10\n",
      "Please Enter the Second Number or Power:2\n",
      "10 * 2 = 20\n",
      "\n",
      "Do you want to calculate again? Please type Y for YES or N for NO.p\n",
      "Wrong Selection Please Select Again!!\n",
      "\n",
      "Do you want to calculate again? Please type Y for YES or N for NO.u\n",
      "Wrong Selection Please Select Again!!\n",
      "\n",
      "Do you want to calculate again? Please type Y for YES or N for NO.n\n",
      "Calculate Again. See you later.\n"
     ]
    }
   ],
   "source": [
    "# Add calculate() function\n",
    "def calculate():\n",
    "    operation = input(\"\"\"\\nPlease type in the math operation you would like to complete:\n",
    "+ for addition\n",
    "- for subtraction\n",
    "* for multiplication\n",
    "/ for division\n",
    "** for Power\\n\"\"\")\n",
    "\n",
    "    number_1 = int(input(\"Please Enter the First Number:\"))\n",
    "    number_2 = int(input(\"Please Enter the Second Number or Power:\"))\n",
    "\n",
    "    if operation == '+':\n",
    "        print(\"{} + {} = \".format(number_1, number_2), end=\"\")\n",
    "        print(number_1 + number_2)\n",
    "\n",
    "    elif operation == '-':\n",
    "        print(\"{} - {} = \".format(number_1, number_2), end=\"\")\n",
    "        print(number_1 - number_2)\n",
    "\n",
    "    elif operation == '*':\n",
    "        print(\"{} * {} = \".format(number_1, number_2), end=\"\")\n",
    "        print(number_1 * number_2)\n",
    "\n",
    "    elif operation == '/':\n",
    "        print(\"{} / {} = \".format(number_1, number_2), end=\"\")\n",
    "        print(number_1 / number_2)\n",
    "        \n",
    "    elif operation == '**':\n",
    "        print(\"{} ** {} = \".format(number_1, number_2), end=\"\") \n",
    "        print(number_1 ** number_2)\n",
    "\n",
    "    else:\n",
    "        print(\"You have not typed a valid operator, please run the program again.\")\n",
    "\n",
    "    # Add again() function to calculate() function\n",
    "    again()\n",
    "\n",
    "def again():\n",
    "    calc_again = input(\"\\nDo you want to calculate again? Please type Y for YES or N for NO.\")\n",
    "\n",
    "    if calc_again.upper() == 'Y':\n",
    "        calculate()\n",
    "    elif calc_again.upper() == 'N':\n",
    "        print(\"Calculate Again. See you later.\")\n",
    "    else:\n",
    "        print(\"Wrong Selection Please Select Again!!\")\n",
    "        again()\n",
    "\n",
    "calculate()"
   ]
  },
  {
   "cell_type": "markdown",
   "id": "7fb58cb0",
   "metadata": {},
   "source": [
    "# 2. Write a program to check if there is any numeric value in list using for loop."
   ]
  },
  {
   "cell_type": "code",
   "execution_count": 2,
   "id": "8eb5ade0",
   "metadata": {},
   "outputs": [
    {
     "name": "stdout",
     "output_type": "stream",
     "text": [
      "22\n",
      "23\n",
      "40\n"
     ]
    }
   ],
   "source": [
    "list = [\"Natiq\", False, 22, \"Ahmad\", True, 23, 40, \"Ali\"] \n",
    "for x in list: \n",
    "    if type(x) == int: \n",
    "        print(x)"
   ]
  },
  {
   "cell_type": "markdown",
   "id": "7672a536",
   "metadata": {},
   "source": [
    "# 3. Write a Python script to add a key to a dictionary."
   ]
  },
  {
   "cell_type": "code",
   "execution_count": 4,
   "id": "392c4989",
   "metadata": {},
   "outputs": [
    {
     "name": "stdout",
     "output_type": "stream",
     "text": [
      "{0: 25, 1: 30, 2: 80, 3: 88, 4: 10}\n",
      "{0: 25, 1: 30, 2: 80, 3: 88, 4: 10, 5: 40}\n"
     ]
    }
   ],
   "source": [
    "d = {0:25, 1:30, 2:80, 3:88, 4:10}\n",
    "print(d)\n",
    "d.update({5:40})\n",
    "print(d)"
   ]
  },
  {
   "cell_type": "markdown",
   "id": "4fa5781d",
   "metadata": {},
   "source": [
    "# 4. Write a Python program to sum all the numeric items in a dictionary."
   ]
  },
  {
   "cell_type": "code",
   "execution_count": 5,
   "id": "95dc5d24",
   "metadata": {},
   "outputs": [
    {
     "name": "stdout",
     "output_type": "stream",
     "text": [
      "225\n"
     ]
    }
   ],
   "source": [
    "my_dict = {\"0\":50,\"1\":25,\"2\":-150, \"3\":300}\n",
    "print(sum(my_dict.values()))"
   ]
  },
  {
   "cell_type": "markdown",
   "id": "274f0f36",
   "metadata": {},
   "source": [
    "# 5. Write a program to identify duplicate values from list."
   ]
  },
  {
   "cell_type": "code",
   "execution_count": 6,
   "id": "dc726c91",
   "metadata": {},
   "outputs": [
    {
     "name": "stdout",
     "output_type": "stream",
     "text": [
      "[10, 20, 30, -20, 60]\n"
     ]
    }
   ],
   "source": [
    "def Repeat(x):\n",
    "    size = len(x)\n",
    "    rep = []\n",
    "    for i in range(size):\n",
    "        k = i + 1\n",
    "        for j in range(k, size):\n",
    "            if x[i] == x[j] and x[i] not in rep:\n",
    "                rep.append(x[i])\n",
    "    return rep\n",
    "\n",
    "List = [10, 20, 30, 20, 10, 20, 80, -50, 30, 40, 50, -20, 60, 60, -20, -20]\n",
    "print (Repeat(List))"
   ]
  },
  {
   "cell_type": "markdown",
   "id": "eae8ccd4",
   "metadata": {},
   "source": [
    "# 6. Write a Python script to check if a given key already exists in a dictionary"
   ]
  },
  {
   "cell_type": "code",
   "execution_count": 7,
   "id": "1450d7fa",
   "metadata": {},
   "outputs": [
    {
     "name": "stdout",
     "output_type": "stream",
     "text": [
      "Present,  value = 20\n",
      "Not present\n"
     ]
    }
   ],
   "source": [
    "def checkKey(dict, key):\n",
    "      \n",
    "    if key in dict:\n",
    "        print(\"Present, \", end =\" \")\n",
    "        print(\"value =\", dict[key])\n",
    "    else:\n",
    "        print(\"Not present\")\n",
    "\n",
    "dict = {\"0\": 10, \"1\":15, \"2\":20, \"3\":25, \"4\":30}\n",
    "\n",
    "key = '2'\n",
    "checkKey(dict, key)\n",
    "\n",
    "key = '6'\n",
    "checkKey(dict, key)"
   ]
  },
  {
   "cell_type": "code",
   "execution_count": null,
   "id": "1c9608f3",
   "metadata": {},
   "outputs": [],
   "source": []
  }
 ],
 "metadata": {
  "kernelspec": {
   "display_name": "Python 3",
   "language": "python",
   "name": "python3"
  },
  "language_info": {
   "codemirror_mode": {
    "name": "ipython",
    "version": 3
   },
   "file_extension": ".py",
   "mimetype": "text/x-python",
   "name": "python",
   "nbconvert_exporter": "python",
   "pygments_lexer": "ipython3",
   "version": "3.8.8"
  }
 },
 "nbformat": 4,
 "nbformat_minor": 5
}
