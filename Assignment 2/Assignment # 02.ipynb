{
 "cells": [
  {
   "cell_type": "code",
   "execution_count": 1,
   "id": "444a20ed",
   "metadata": {},
   "outputs": [
    {
     "name": "stdout",
     "output_type": "stream",
     "text": [
      "Student Percentage = 89.66666666666666\n",
      "Student Grade A+\n"
     ]
    }
   ],
   "source": [
    "islam = 95;\n",
    "english = 75;\n",
    "mathematics = 99;\n",
    "obtain_marks = islam + english + mathematics;\n",
    "total_marks = 300;\n",
    "percentage = (obtain_marks/total_marks)*100;\n",
    "\n",
    "print(\"Student Percentage =\",percentage);\n",
    "\n",
    "if percentage <= 100 and percentage >= 80:\n",
    "    print(\"Student Grade A+\");\n",
    "elif percentage < 80 and percentage >= 70:\n",
    "    print(\"Student Grade A\");\n",
    "elif percentage < 70 and percentage >= 60:\n",
    "    print(\"Student Grade B\");\n",
    "elif percentage < 60 and percentage >= 50:\n",
    "    print(\"Student Grade C\");\n",
    "elif percentage < 50 and percentage >= 40:\n",
    "    print(\"Student Grade D\");\n",
    "elif percentage < 40 and percentage >= 33:\n",
    "    print(\"Student Grade E\");\n",
    "elif percentage < 33 and percentage >= 0:\n",
    "    print(\"Student Grade F\");\n",
    "else: \n",
    "    print(\"Your Marks Percentage are invaild!!\");"
   ]
  },
  {
   "cell_type": "code",
   "execution_count": null,
   "id": "6c4df2ce",
   "metadata": {},
   "outputs": [],
   "source": []
  }
 ],
 "metadata": {
  "kernelspec": {
   "display_name": "Python 3",
   "language": "python",
   "name": "python3"
  },
  "language_info": {
   "codemirror_mode": {
    "name": "ipython",
    "version": 3
   },
   "file_extension": ".py",
   "mimetype": "text/x-python",
   "name": "python",
   "nbconvert_exporter": "python",
   "pygments_lexer": "ipython3",
   "version": "3.8.8"
  }
 },
 "nbformat": 4,
 "nbformat_minor": 5
}
